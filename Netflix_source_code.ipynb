{
  "cells": [
    {
      "cell_type": "code",
      "execution_count": null,
      "metadata": {
        "colab": {
          "base_uri": "https://localhost:8080/",
          "height": 1000
        },
        "id": "5gkO_ToIELve",
        "outputId": "8acdddc4-3e5e-410d-9912-bfd187442004"
      },
      "outputs": [
        {
          "ename": "ModuleNotFoundError",
          "evalue": "No module named 'plotly'",
          "output_type": "error",
          "traceback": [
            "\u001b[31m---------------------------------------------------------------------------\u001b[39m",
            "\u001b[31mModuleNotFoundError\u001b[39m                       Traceback (most recent call last)",
            "\u001b[36mCell\u001b[39m\u001b[36m \u001b[39m\u001b[32mIn[1]\u001b[39m\u001b[32m, line 11\u001b[39m\n\u001b[32m      9\u001b[39m \u001b[38;5;28;01mimport\u001b[39;00m\u001b[38;5;250m \u001b[39m\u001b[34;01mmatplotlib\u001b[39;00m\u001b[34;01m.\u001b[39;00m\u001b[34;01mpyplot\u001b[39;00m\u001b[38;5;250m \u001b[39m\u001b[38;5;28;01mas\u001b[39;00m\u001b[38;5;250m \u001b[39m\u001b[34;01mplt\u001b[39;00m\n\u001b[32m     10\u001b[39m \u001b[38;5;28;01mimport\u001b[39;00m\u001b[38;5;250m \u001b[39m\u001b[34;01mseaborn\u001b[39;00m\u001b[38;5;250m \u001b[39m\u001b[38;5;28;01mas\u001b[39;00m\u001b[38;5;250m \u001b[39m\u001b[34;01msns\u001b[39;00m\n\u001b[32m---> \u001b[39m\u001b[32m11\u001b[39m \u001b[38;5;28;01mimport\u001b[39;00m\u001b[38;5;250m \u001b[39m\u001b[34;01mplotly\u001b[39;00m\u001b[34;01m.\u001b[39;00m\u001b[34;01mexpress\u001b[39;00m\u001b[38;5;250m \u001b[39m\u001b[38;5;28;01mas\u001b[39;00m\u001b[38;5;250m \u001b[39m\u001b[34;01mpx\u001b[39;00m\n\u001b[32m     13\u001b[39m \u001b[38;5;66;03m# Setup visualization style\u001b[39;00m\n\u001b[32m     14\u001b[39m sns.set(style=\u001b[33m\"\u001b[39m\u001b[33mwhitegrid\u001b[39m\u001b[33m\"\u001b[39m)\n",
            "\u001b[31mModuleNotFoundError\u001b[39m: No module named 'plotly'"
          ]
        }
      ],
      "source": [
        "\n",
        "import pandas as pd\n",
        "import numpy as np\n",
        "import matplotlib.pyplot as plt\n",
        "import seaborn as sns\n",
        "import plotly.express as px\n",
        "\n",
        "sns.set(style=\"whitegrid\")\n",
        "plt.rcParams['figure.figsize'] = (12,6)\n",
        "\n"
      ]
    },
    {
      "cell_type": "code",
      "execution_count": null,
      "metadata": {},
      "outputs": [],
      "source": [
        "df = pd.read_csv(\"Netflix Dataset.csv\")\n",
        "\n",
        "# Quick look at dataset\n",
        "print(\"Shape of Dataset:\", df.shape)\n",
        "print(\"\\nColumns:\", df.columns.tolist())\n",
        "print(\"\\nMissing Values:\\n\", df.isnull().sum())\n"
      ]
    },
    {
      "cell_type": "code",
      "execution_count": null,
      "metadata": {},
      "outputs": [],
      "source": [
        "df['Release_Date'] = pd.to_datetime(df['Release_Date'], errors='coerce')\n",
        "\n",
        "# Extract Year\n",
        "df['Year'] = df['Release_Date'].dt.year\n",
        "\n",
        "# Handle missing values\n",
        "df['Director'] = df['Director'].fillna(\"Unknown\")\n",
        "df['Cast'] = df['Cast'].fillna(\"Unknown\")\n",
        "df['Country'] = df['Country'].fillna(\"Unknown\")\n",
        "df['Rating'] = df['Rating'].fillna(\"Not Rated\")\n",
        "\n",
        "# Extract Main Genre (first genre listed in 'Type')\n",
        "df['Main_Genre'] = df['Type'].apply(lambda x: x.split(\",\")[0].strip() if pd.notnull(x) else \"Unknown\")"
      ]
    },
    {
      "cell_type": "code",
      "execution_count": null,
      "metadata": {},
      "outputs": [],
      "source": [
        "print(\"\\nCategory Distribution:\\n\", df['Category'].value_counts())\n",
        "\n",
        "# Top Countries\n",
        "print(\"\\nTop 5 Countries:\\n\", df['Country'].value_counts().head(5))\n",
        "\n",
        "# Dataset span (years)\n",
        "print(\"\\nDataset covers years from\", df['Year'].min(), \"to\", df['Year'].max())"
      ]
    },
    {
      "cell_type": "code",
      "execution_count": null,
      "metadata": {},
      "outputs": [],
      "source": [
        "# 1. Line Chart – Movies vs. TV Shows released per year\n",
        "content_trend = df.groupby(['Year', 'Category']).size().reset_index(name='Count')\n",
        "sns.lineplot(data=content_trend, x='Year', y='Count', hue='Category', marker='o')\n",
        "plt.title(\"Movies vs TV Shows Released per Year\")\n",
        "plt.xlabel(\"Year\")\n",
        "plt.ylabel(\"Count\")\n",
        "plt.show()\n",
        "\n"
      ]
    },
    {
      "cell_type": "code",
      "execution_count": null,
      "metadata": {},
      "outputs": [],
      "source": [
        "# 2. Bar Chart – Top 10 Genres\n",
        "top_genres = df['Main_Genre'].value_counts().head(10)\n",
        "sns.barplot(x=top_genres.values, y=top_genres.index, palette=\"viridis\")\n",
        "plt.title(\"Top 10 Genres on Netflix\")\n",
        "plt.xlabel(\"Number of Titles\")\n",
        "plt.ylabel(\"Genre\")\n",
        "plt.show()\n",
        "\n"
      ]
    },
    {
      "cell_type": "code",
      "execution_count": null,
      "metadata": {},
      "outputs": [],
      "source": [
        "# 3. Stacked Bar Chart – Movies vs TV Shows per Country (Top 10 countries)\n",
        "top_countries = df['Country'].value_counts().head(10).index\n",
        "country_data = df[df['Country'].isin(top_countries)]\n",
        "stacked = country_data.groupby(['Country', 'Category']).size().unstack(fill_value=0)\n",
        "stacked.plot(kind='bar', stacked=True, figsize=(12,6), colormap=\"tab20\")\n",
        "plt.title(\"Movies vs TV Shows by Country (Top 10 Countries)\")\n",
        "plt.xlabel(\"Country\")\n",
        "plt.ylabel(\"Count\")\n",
        "plt.xticks(rotation=45)\n",
        "plt.show()\n",
        "\n"
      ]
    },
    {
      "cell_type": "code",
      "execution_count": null,
      "metadata": {},
      "outputs": [],
      "source": [
        "# 4. Choropleth Map – Country-wise Content\n",
        "country_counts = df['Country'].value_counts().reset_index()\n",
        "country_counts.columns = ['Country', 'Count']\n",
        "fig = px.choropleth(country_counts, locations=\"Country\", locationmode=\"country names\",\n",
        "                    color=\"Count\", hover_name=\"Country\",\n",
        "                    color_continuous_scale=\"viridis\", title=\"Netflix Content by Country\")\n",
        "fig.show()\n",
        "\n"
      ]
    },
    {
      "cell_type": "code",
      "execution_count": null,
      "metadata": {},
      "outputs": [],
      "source": [
        "# 5. Trend Line – Growth of Popular Genres Over Time\n",
        "popular_genres = df['Main_Genre'].value_counts().head(5).index\n",
        "genre_trends = df[df['Main_Genre'].isin(popular_genres)].groupby(['Year','Main_Genre']).size().reset_index(name='Count')\n",
        "\n",
        "sns.lineplot(data=genre_trends, x='Year', y='Count', hue='Main_Genre', marker=\"o\")\n",
        "plt.title(\"Trend of Popular Genres Over Time\")\n",
        "plt.xlabel(\"Year\")\n",
        "plt.ylabel(\"Number of Titles\")\n",
        "plt.legend(title=\"Genre\")\n",
        "plt.show()\n"
      ]
    }
  ],
  "metadata": {
    "colab": {
      "provenance": []
    },
    "kernelspec": {
      "display_name": ".venv (3.13.2)",
      "language": "python",
      "name": "python3"
    },
    "language_info": {
      "codemirror_mode": {
        "name": "ipython",
        "version": 3
      },
      "file_extension": ".py",
      "mimetype": "text/x-python",
      "name": "python",
      "nbconvert_exporter": "python",
      "pygments_lexer": "ipython3",
      "version": "3.13.2"
    }
  },
  "nbformat": 4,
  "nbformat_minor": 0
}
